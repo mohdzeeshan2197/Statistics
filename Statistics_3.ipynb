{
 "cells": [
  {
   "cell_type": "markdown",
   "id": "19ec6f52",
   "metadata": {},
   "source": [
    "# Q1. What is the Probability density function?"
   ]
  },
  {
   "cell_type": "markdown",
   "id": "a5b18b7f",
   "metadata": {},
   "source": [
    "Probability density function (PDF) is a mathematical function used to describe the probability distribution of a continuous random variable.\n",
    "\n",
    "The PDF describes the relative likelihood of the values of the random variable occurring within a given interval. It is a non-negative function, and the area under the curve of the PDF over an interval gives the probability of the variable taking values in that interval.\n",
    "\n",
    "The PDF is defined as the derivative of the cumulative distribution function (CDF) of the random variable. In other words, if F(x) is the CDF of the random variable X, then the PDF f(x) is defined as:\n",
    "\n",
    "      f(x) = dF(x)/dx\n",
    "\n",
    "where d/dx denotes the derivative with respect to x.\n",
    "\n",
    "The PDF can be used to calculate various statistical properties of the random variable, such as mean, variance, and moments. It is an essential concept in probability theory and statistics and is used in various fields, including engineering, economics, physics, and finance."
   ]
  },
  {
   "cell_type": "markdown",
   "id": "976c52e1",
   "metadata": {},
   "source": [
    "# Q2. What are the types of Probability distribution?"
   ]
  },
  {
   "cell_type": "markdown",
   "id": "4ad54216",
   "metadata": {},
   "source": [
    "There are several types of probability distributions, but the most common ones are:\n",
    "\n",
    "1.Normal Distribution: It is a bell-shaped distribution that is symmetric around its mean. Many natural phenomena follow the normal distribution, and it is often used in statistical inference.\n",
    "\n",
    "2.Binomial Distribution: It is a discrete distribution that describes the number of successes in a fixed number of independent trials, where each trial has the same probability of success.\n",
    "\n",
    "3.Poisson Distribution: It is a discrete distribution that describes the number of events occurring in a fixed interval of time or space, given that the events occur independently and at a constant rate.\n",
    "\n",
    "4.Exponential Distribution: It is a continuous distribution that describes the time between two successive events occurring in a Poisson process.\n",
    "\n",
    "5.Uniform Distribution: It is a continuous distribution where all values in a given interval have an equal probability of occurring.\n",
    "\n",
    "6.Gamma Distribution: It is a continuous distribution that is used to model the time until a specified event occurs, given that the event occurs at a constant rate.\n",
    "\n",
    "7.Beta Distribution: It is a continuous distribution that is used to model probabilities or proportions.\n",
    "\n",
    "These are some of the most common types of probability distributions. There are many other probability distributions, each with its own unique characteristics and applications."
   ]
  },
  {
   "cell_type": "markdown",
   "id": "6c2a668f",
   "metadata": {},
   "source": [
    "# Q3. Write a Python function to calculate the probability density function of a normal distribution with given mean and standard deviation at a given point."
   ]
  },
  {
   "cell_type": "code",
   "execution_count": 1,
   "id": "1ac99812",
   "metadata": {},
   "outputs": [
    {
     "name": "stdout",
     "output_type": "stream",
     "text": [
      "0.12951759566589174\n"
     ]
    }
   ],
   "source": [
    "import math\n",
    "\n",
    "def normal_pdf(x, mu, sigma):\n",
    "    \"\"\"\n",
    "    Calculates the PDF of a normal distribution with the given mean and standard deviation at the given point.\n",
    "    \n",
    "    Args:\n",
    "    x (float): The point at which to calculate the PDF.\n",
    "    mu (float): The mean of the normal distribution.\n",
    "    sigma (float): The standard deviation of the normal distribution.\n",
    "    \n",
    "    Returns:\n",
    "    float: The PDF of the normal distribution at the given point.\n",
    "    \"\"\"\n",
    "    coefficient = 1 / (sigma * math.sqrt(2 * math.pi))\n",
    "    exponent = -0.5 * ((x - mu) / sigma) ** 2\n",
    "    pdf = coefficient * math.exp(exponent)\n",
    "    return pdf\n",
    "\n",
    "# To use this function, simply call it with the desired parameters:\n",
    "    \n",
    "mu = 0.0  # mean of the normal distribution\n",
    "sigma = 1.0  # standard deviation of the normal distribution\n",
    "x = 1.5  # point at which to calculate the PDF\n",
    "\n",
    "pdf = normal_pdf(x, mu, sigma)\n",
    "print(pdf)\n",
    "\n",
    "# This will output the PDF of the normal distribution with mean 0.0 and standard deviation 1.0 at the point x=1.5.\n"
   ]
  },
  {
   "cell_type": "markdown",
   "id": "d5a1372c",
   "metadata": {},
   "source": [
    "# Q4. What are the properties of Binomial distribution? Give two examples of events where binomial distribution can be applied."
   ]
  },
  {
   "cell_type": "markdown",
   "id": "5b9e1940",
   "metadata": {},
   "source": [
    "properties of Binomial Distribution:\n",
    "\n",
    "1.Fixed number of independent trials: The binomial distribution describes the number of successes in a fixed number of independent trials.\n",
    "\n",
    "2.Two possible outcomes: Each trial has only two possible outcomes, either success or failure.\n",
    "\n",
    "3.Constant probability: The probability of success is constant for each trial.\n",
    "\n",
    "4.Independent trials: The outcome of each trial is independent of the outcome of any other trial.\n",
    "\n",
    "Examples of events where binomial distribution can be applied:\n",
    "\n",
    "1.Coin tosses: The outcome of a coin toss can be modeled using a binomial distribution. If we toss a coin n times, the number of heads obtained follows a binomial distribution, where success is defined as obtaining a head, and failure is defined as obtaining a tail.\n",
    "\n",
    "2.Product defects: A manufacturing company produces a large number of products, and some of them may be defective. If we inspect a sample of products and count the number of defective items, this can be modeled using a binomial distribution, where success is defined as finding a defective item, and failure is defined as finding a non-defective item. The probability of success in this case is the probability of a product being defective."
   ]
  },
  {
   "cell_type": "markdown",
   "id": "4c0fedba",
   "metadata": {},
   "source": [
    "# Q5. Generate a random sample of size 1000 from a binomial distribution with probability of success 0.4 and plot a histogram of the results using matplotlib."
   ]
  },
  {
   "cell_type": "code",
   "execution_count": 2,
   "id": "83f0428e",
   "metadata": {},
   "outputs": [],
   "source": [
    "import numpy as np"
   ]
  },
  {
   "cell_type": "code",
   "execution_count": 3,
   "id": "03810904",
   "metadata": {},
   "outputs": [],
   "source": [
    "import matplotlib.pyplot as plt"
   ]
  },
  {
   "cell_type": "code",
   "execution_count": 4,
   "id": "317900fb",
   "metadata": {},
   "outputs": [],
   "source": [
    "n = 1\n",
    "p = 0.4"
   ]
  },
  {
   "cell_type": "code",
   "execution_count": 6,
   "id": "1fb12631",
   "metadata": {},
   "outputs": [],
   "source": [
    "sample = np.random.binomial(n,p ,size= 1000)"
   ]
  },
  {
   "cell_type": "code",
   "execution_count": 17,
   "id": "533c1c7d",
   "metadata": {},
   "outputs": [
    {
     "data": {
      "image/png": "[encoded data removed]",
      "text/plain": [
       "<Figure size 640x480 with 1 Axes>"
      ]
     },
     "metadata": {},
     "output_type": "display_data"
    }
   ],
   "source": [
    "plt.hist(sample, bins=range(n+2),align='left',rwidth=0.8)\n",
    "plt.xlabel(\"Numbers of Successess\")\n",
    "plt.ylabel(\"Frequency\")\n",
    "plt.title(\"Binomial Distribution with n = {} and p ={}\".format(n,p))\n",
    "plt.show()"
   ]
  },
  {
   "cell_type": "markdown",
   "id": "54b51260",
   "metadata": {},
   "source": [
    "# Q6. Write a Python function to calculate the cumulative distribution function of a Poisson distribution with given mean at a given point."
   ]
  },
  {
   "cell_type": "code",
   "execution_count": 19,
   "id": "4ab7a5c9",
   "metadata": {},
   "outputs": [
    {
     "name": "stdout",
     "output_type": "stream",
     "text": [
      "0.8911780189141512\n"
     ]
    }
   ],
   "source": [
    "import math\n",
    "\n",
    "def poisson_cdf(k, mu):\n",
    "    \"\"\"\n",
    "    Calculates the CDF of a Poisson distribution with the given mean at the given point.\n",
    "    \n",
    "    Args:\n",
    "    k (int): The point at which to calculate the CDF.\n",
    "    mu (float): The mean of the Poisson distribution.\n",
    "    \n",
    "    Returns:\n",
    "    float: The CDF of the Poisson distribution at the given point.\n",
    "    \"\"\"\n",
    "    cdf = 0.0\n",
    "    for i in range(k+1):\n",
    "        cdf += math.exp(-mu) * mu**i / math.factorial(i)\n",
    "    return cdf\n",
    "\n",
    "# To use this function, simply call it with the desired parameters:\n",
    "\n",
    "\n",
    "mu = 2.5  # mean of the Poisson distribution\n",
    "k = 4  # point at which to calculate the CDF\n",
    "\n",
    "cdf = poisson_cdf(k, mu)\n",
    "\n",
    "print(cdf)"
   ]
  },
  {
   "cell_type": "markdown",
   "id": "ba09913b",
   "metadata": {},
   "source": [
    "# Q7. How Binomial distribution different from Poisson distribution?"
   ]
  },
  {
   "cell_type": "markdown",
   "id": "e5f31c00",
   "metadata": {},
   "source": [
    "Binomial and Poisson distributions are both discrete probability distributions, but they have some key differences:\n",
    "\n",
    "1.Number of trials: The binomial distribution describes the number of successes in a fixed number of independent trials, while the Poisson distribution describes the number of events occurring in a fixed interval of time or space.\n",
    "\n",
    "2.Probability of success: In the binomial distribution, the probability of success is constant for each trial, while in the Poisson distribution, the probability of an event occurring is constant for each unit of time or space.\n",
    "\n",
    "3.Relationship between mean and variance: In the binomial distribution, the variance is equal to np(1-p), where n is the number of trials and p is the probability of success. In the Poisson distribution, the variance is equal to the mean.\n",
    "\n",
    "4.Assumptions: The binomial distribution assumes a fixed number of trials and a constant probability of success, while the Poisson distribution assumes a large number of independent events occurring at a constant rate.\n",
    "\n",
    "5.Application: The binomial distribution is commonly used to model the probability of a certain number of successes in a fixed number of trials, while the Poisson distribution is commonly used to model the probability of a certain number of events occurring in a fixed interval of time or space.\n",
    "\n",
    "\n",
    "In summary, the binomial distribution is used when there are a fixed number of independent trials, and the probability of success is constant for each trial, while the Poisson distribution is used when there are a large number of independent events occurring at a constant rate"
   ]
  },
  {
   "cell_type": "markdown",
   "id": "14bfc7fa",
   "metadata": {},
   "source": [
    "# Q8. Generate a random sample of size 1000 from a Poisson distribution with mean 5 and calculate the sample mean and variance."
   ]
  },
  {
   "cell_type": "code",
   "execution_count": null,
   "id": "e9b693cc",
   "metadata": {},
   "outputs": [],
   "source": [
    "mu = 5"
   ]
  },
  {
   "cell_type": "code",
   "execution_count": 22,
   "id": "e2b1bd45",
   "metadata": {},
   "outputs": [
    {
     "name": "stdout",
     "output_type": "stream",
     "text": [
      "Sample mean: 2.44\n",
      "Sample variance: 2.19\n"
     ]
    }
   ],
   "source": [
    "sample = np.random.poisson(mu,size = 1000)\n",
    "\n",
    "sample_mean = np.mean(sample)\n",
    "sample_var = np.var(sample, ddof=1)  # use ddof=1 for unbiased variance\n",
    "\n",
    "print(\"Sample mean: {:.2f}\".format(sample_mean))\n",
    "print(\"Sample variance: {:.2f}\".format(sample_var))"
   ]
  },
  {
   "cell_type": "markdown",
   "id": "8ed72fda",
   "metadata": {},
   "source": [
    "# Q9. How mean and variance are related in Binomial distribution and Poisson distribution?"
   ]
  },
  {
   "cell_type": "markdown",
   "id": "ef663f1b",
   "metadata": {},
   "source": [
    "In the Binomial distribution, the mean (μ) and variance (σ^2) are related by the formula:\n",
    "\n",
    "      σ^2 = μ(1 - p)\n",
    "\n",
    "where μ is the mean of the distribution and p is the probability of success in each trial. This formula implies that the variance increases as the probability of success decreases, and it reaches its maximum when p = 0.5.\n",
    "\n",
    "In the Poisson distribution, the mean (μ) and variance (σ^2) are equal:\n",
    "\n",
    "      σ^2 = μ\n",
    "\n",
    "This means that the variance of the distribution is proportional to its mean. As the mean of the distribution increases, so does its variance.\n",
    "\n",
    "In summary, in the Binomial distribution, the variance depends on both the mean and the probability of success, while in the Poisson distribution, the variance depends only on the mean. In both cases, the variance is an important measure of the spread or dispersion of the distribution, and it provides information about how much the random variable deviates from its mean value."
   ]
  },
  {
   "cell_type": "markdown",
   "id": "1d9a3e8f",
   "metadata": {},
   "source": [
    "# Q10. In normal distribution with respect to mean position, where does the least frequent data appear?"
   ]
  },
  {
   "cell_type": "markdown",
   "id": "a44196eb",
   "metadata": {},
   "source": [
    "In a normal distribution, the least frequent data appears in the tails of the distribution, which are the regions furthest away from the mean. Specifically, the probability density function of a normal distribution is highest at the mean and decreases as we move away from the mean in either direction towards the tails. Therefore, the least frequent data appears in the tails of the distribution, where the probability density function is lower.\n",
    "\n",
    "For example, in a standard normal distribution (with a mean of 0 and a standard deviation of 1), the least frequent data appears in the tails beyond about 2 or 3 standard deviations from the mean. These extreme values are sometimes referred to as outliers or anomalies, and they may be of special interest in certain applications or analyses."
   ]
  }
 ],
 "metadata": {
  "kernelspec": {
   "display_name": "Python 3 (ipykernel)",
   "language": "python",
   "name": "python3"
  },
  "language_info": {
   "codemirror_mode": {
    "name": "ipython",
    "version": 3
   },
   "file_extension": ".py",
   "mimetype": "text/x-python",
   "name": "python",
   "nbconvert_exporter": "python",
   "pygments_lexer": "ipython3",
   "version": "3.9.16"
  }
 },
 "nbformat": 4,
 "nbformat_minor": 5
}
